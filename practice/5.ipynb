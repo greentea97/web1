{
 "cells": [
  {
   "cell_type": "code",
   "execution_count": 5,
   "source": [
    "class FourCal:\r\n",
    "    def setdata(self, first, second):\r\n",
    "        self.first = first\r\n",
    "        self.second = second\r\n",
    "    def add(self):\r\n",
    "        result = self.first + self.second\r\n",
    "        return result\r\n",
    "\r\n",
    "a = FourCal()\r\n",
    "a.setdata(4,2)\r\n",
    "a.add()\r\n",
    "\r\n"
   ],
   "outputs": [
    {
     "output_type": "execute_result",
     "data": {
      "text/plain": [
       "6"
      ]
     },
     "metadata": {},
     "execution_count": 5
    }
   ],
   "metadata": {}
  },
  {
   "cell_type": "code",
   "execution_count": 8,
   "source": [
    "class FourCal:\r\n",
    "    def __init__(self, first, second):\r\n",
    "        self.first = first\r\n",
    "        self.second = second\r\n",
    "    def setdata(self, first, second):\r\n",
    "        self.first = first\r\n",
    "        self.second = second\r\n",
    "    def add(self):\r\n",
    "        result = self.first + self.second\r\n",
    "        return result\r\n",
    "    def mul(self):\r\n",
    "        result = self.first*self.second\r\n",
    "        return result\r\n",
    "    def sub(self):\r\n",
    "        result = self.first - self.second\r\n",
    "        return result\r\n",
    "    def div(self):\r\n",
    "        result = self.first / self.second\r\n",
    "        return result\r\n",
    "a=FourCal(4,2)\r\n",
    "a.add()"
   ],
   "outputs": [
    {
     "output_type": "execute_result",
     "data": {
      "text/plain": [
       "6"
      ]
     },
     "metadata": {},
     "execution_count": 8
    }
   ],
   "metadata": {}
  },
  {
   "cell_type": "code",
   "execution_count": null,
   "source": [],
   "outputs": [],
   "metadata": {}
  },
  {
   "cell_type": "code",
   "execution_count": null,
   "source": [],
   "outputs": [],
   "metadata": {}
  },
  {
   "cell_type": "code",
   "execution_count": null,
   "source": [],
   "outputs": [],
   "metadata": {}
  },
  {
   "cell_type": "code",
   "execution_count": null,
   "source": [],
   "outputs": [],
   "metadata": {}
  },
  {
   "cell_type": "code",
   "execution_count": null,
   "source": [],
   "outputs": [],
   "metadata": {}
  },
  {
   "cell_type": "code",
   "execution_count": null,
   "source": [],
   "outputs": [],
   "metadata": {}
  },
  {
   "cell_type": "code",
   "execution_count": null,
   "source": [],
   "outputs": [],
   "metadata": {}
  }
 ],
 "metadata": {
  "orig_nbformat": 4,
  "language_info": {
   "name": "python",
   "version": "3.8.10",
   "mimetype": "text/x-python",
   "codemirror_mode": {
    "name": "ipython",
    "version": 3
   },
   "pygments_lexer": "ipython3",
   "nbconvert_exporter": "python",
   "file_extension": ".py"
  },
  "kernelspec": {
   "name": "python3",
   "display_name": "Python 3.8.10 64-bit ('base': conda)"
  },
  "interpreter": {
   "hash": "97ae724bfa85b9b34df7982b8bb8c7216f435b92902d749e4263f71162bea840"
  }
 },
 "nbformat": 4,
 "nbformat_minor": 2
}